{
 "cells": [
  {
   "cell_type": "code",
   "execution_count": 45,
   "metadata": {},
   "outputs": [],
   "source": [
    "#importe dos pacotes necessários \n",
    "import psutil as ps\n",
    "import time\n",
    "import pandas"
   ]
  },
  {
   "cell_type": "code",
   "execution_count": 46,
   "metadata": {},
   "outputs": [],
   "source": [
    "#Variáveis Globais\n",
    "\n",
    "arquivo = open('Monitoramento.txt','a', encoding='UTF=8')\n",
    "#contador é utilizado para a quantidade de registros desejados no arquivo\n",
    "contador = 1"
   ]
  },
  {
   "cell_type": "code",
   "execution_count": null,
   "metadata": {},
   "outputs": [],
   "source": [
    "while True:\n",
    "    if contador < 100:\n",
    "        #30 segundos de espera para registrar os dados\n",
    "        time.sleep(10)\n",
    "        dataCompleta = str(time.localtime()[2])+'/'+str(time.localtime()[1])+'/'+str(time.localtime()[0])\n",
    "        horaCompleta = str(time.localtime()[3])+':'+str(time.localtime()[4])+':'+str(time.localtime()[5])\n",
    "        cpu = ps.cpu_percent()\n",
    "        memoria = ps.virtual_memory()[2]\n",
    "        arquivo.write(dataCompleta+','+horaCompleta+','+str(cpu)+','+str(memoria)+'\\n')\n",
    "        contador += 1\n",
    "    else:\n",
    "        #Quando o contador chegar ao limite, fecha o arquivo guardando os dados e quebra do loop\n",
    "        arquivo.close()\n",
    "        break\n"
   ]
  },
  {
   "cell_type": "code",
   "execution_count": null,
   "metadata": {},
   "outputs": [],
   "source": [
    "#Leitura e exibição do arquivo de dados de outra forma\n",
    "dados = pandas.read_csv('Monitoramento.txt')\n",
    "print(dados)"
   ]
  },
  {
   "cell_type": "code",
   "execution_count": null,
   "metadata": {},
   "outputs": [],
   "source": []
  }
 ],
 "metadata": {
  "kernelspec": {
   "display_name": "Python 3",
   "language": "python",
   "name": "python3"
  },
  "language_info": {
   "codemirror_mode": {
    "name": "ipython",
    "version": 3
   },
   "file_extension": ".py",
   "mimetype": "text/x-python",
   "name": "python",
   "nbconvert_exporter": "python",
   "pygments_lexer": "ipython3",
   "version": "3.6.5"
  }
 },
 "nbformat": 4,
 "nbformat_minor": 2
}
